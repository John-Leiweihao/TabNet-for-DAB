{
 "cells": [
  {
   "cell_type": "code",
   "execution_count": null,
   "id": "9f7a3c15",
   "metadata": {},
   "outputs": [],
   "source": [
    "import os\n",
    "import pandas as pd\n",
    "from torch.utils.data import Dataset, DataLoader\n",
    "from sklearn.preprocessing import MinMaxScaler\n",
    "import numpy as np\n",
    "from sklearn.model_selection import train_test_split\n",
    "from sklearn.metrics import mean_absolute_error, mean_squared_error\n",
    "df=pd.read_csv(r'.\\unprocessed_EPS1.csv',index_col=0)\n",
    "df = df[df['Validity'] != 0]\n",
    "df"
   ]
  },
  {
   "cell_type": "code",
   "execution_count": null,
   "id": "e77d0cce",
   "metadata": {},
   "outputs": [],
   "source": [
    "from pytorch_tabnet.tab_model import TabNetRegressor,TabNetClassifier\n",
    "\n",
    "import torch\n",
    "from sklearn.preprocessing import LabelEncoder\n",
    "from sklearn.metrics import mean_squared_error,accuracy_score\n",
    "\n",
    "import pandas as pd\n",
    "import numpy as np\n",
    "\n",
    "\n",
    "\n",
    "import os\n",
    "import wget\n",
    "from pathlib import Path"
   ]
  },
  {
   "cell_type": "code",
   "execution_count": null,
   "id": "96bb9c7d",
   "metadata": {},
   "outputs": [],
   "source": [
    "df1 = df.drop(['D2', 'D0', 'Validity', 'ipk', 'irms', 'Vo', 'nZVS'], axis=1)\n",
    "df1 = df1.reset_index(drop=True)\n",
    "df1"
   ]
  },
  {
   "cell_type": "code",
   "execution_count": null,
   "id": "80a120fe",
   "metadata": {},
   "outputs": [],
   "source": [
    "target = 'Ptotal'\n",
    "if \"Set\" not in df1.columns:\n",
    "    df1[\"Set\"] = np.random.choice([\"train\", \"valid\", \"test\"], p =[.8, .1, .1], size=(df1.shape[0],))\n",
    "\n",
    "train_indices = df1[df1.Set==\"train\"].index\n",
    "valid_indices = df1[df1.Set==\"valid\"].index\n",
    "test_indices = df1[df1.Set==\"test\"].index"
   ]
  },
  {
   "cell_type": "code",
   "execution_count": null,
   "id": "254acc29",
   "metadata": {},
   "outputs": [],
   "source": [
    "clf = TabNetRegressor(n_d=16,n_a=16)"
   ]
  },
  {
   "cell_type": "code",
   "execution_count": null,
   "id": "77cf384d",
   "metadata": {},
   "outputs": [],
   "source": [
    "unused_feat = ['Set']\n",
    "features = [ col for col in df1.columns if col not in unused_feat+[target]] "
   ]
  },
  {
   "cell_type": "code",
   "execution_count": null,
   "id": "3b43b3c5",
   "metadata": {},
   "outputs": [],
   "source": [
    "X_train = df1[features].values[train_indices]\n",
    "y_train = df1[target].values[train_indices].reshape(-1, 1)\n",
    "\n",
    "X_valid = df1[features].values[valid_indices]\n",
    "y_valid = df1[target].values[valid_indices].reshape(-1, 1)\n",
    "\n",
    "X_test = df1[features].values[test_indices]\n",
    "y_test = df1[target].values[test_indices].reshape(-1, 1)"
   ]
  },
  {
   "cell_type": "code",
   "execution_count": null,
   "id": "7cbb0c91",
   "metadata": {},
   "outputs": [],
   "source": [
    "max_epochs = 800 if not os.getenv(\"CI\", False) else 2"
   ]
  },
  {
   "cell_type": "code",
   "execution_count": null,
   "id": "b8d7f4ec",
   "metadata": {},
   "outputs": [],
   "source": [
    "clf.fit(\n",
    "    X_train=X_train, y_train=y_train,\n",
    "    eval_set=[(X_train, y_train), (X_valid, y_valid)],\n",
    "    eval_name=['train', 'valid'],\n",
    "    eval_metric=['mse'],\n",
    "    max_epochs=max_epochs,\n",
    "    patience=300,\n",
    "    batch_size=1024, virtual_batch_size=128,\n",
    "    num_workers=0,\n",
    "    #augmentations=aug\n",
    ") "
   ]
  },
  {
   "cell_type": "code",
   "execution_count": null,
   "id": "c9be8e0c",
   "metadata": {},
   "outputs": [],
   "source": [
    "preds = clf.predict(X_test)\n",
    "\n",
    "y_true = y_test\n",
    "\n",
    "test_score = mean_squared_error(y_pred=preds, y_true=y_true)"
   ]
  },
  {
   "cell_type": "code",
   "execution_count": null,
   "id": "c80a00e4",
   "metadata": {},
   "outputs": [],
   "source": [
    "test_score "
   ]
  },
  {
   "cell_type": "code",
   "execution_count": null,
   "id": "dca6788f",
   "metadata": {},
   "outputs": [],
   "source": [
    "df2 = df.drop(['D2', 'D0', 'Validity', 'ipk', 'irms', 'Vo', 'Ptotal'], axis=1)\n",
    "df2 = df2.reset_index(drop=True)"
   ]
  },
  {
   "cell_type": "code",
   "execution_count": null,
   "id": "c1cd5d30",
   "metadata": {},
   "outputs": [],
   "source": [
    "df2"
   ]
  },
  {
   "cell_type": "code",
   "execution_count": null,
   "id": "c377f351",
   "metadata": {},
   "outputs": [],
   "source": [
    "target = 'nZVS'\n",
    "if \"Set\" not in df2.columns:\n",
    "    df2[\"Set\"] = np.random.choice([\"train\", \"valid\", \"test\"], p =[.8, .1, .1], size=(df2.shape[0],))\n",
    "train_indices = df2[df2.Set==\"train\"].index\n",
    "valid_indices = df2[df2.Set==\"valid\"].index\n",
    "test_indices = df2[df2.Set==\"test\"].index"
   ]
  },
  {
   "cell_type": "code",
   "execution_count": null,
   "id": "18145bed",
   "metadata": {},
   "outputs": [],
   "source": [
    "clf2 = TabNetClassifier(n_d=4,n_a=4)"
   ]
  },
  {
   "cell_type": "code",
   "execution_count": null,
   "id": "395c8232",
   "metadata": {},
   "outputs": [],
   "source": [
    "unused_feat1 = ['Set']\n",
    "features1 = [ col for col in df2.columns if col not in unused_feat1+[target]] "
   ]
  },
  {
   "cell_type": "code",
   "execution_count": null,
   "id": "a7c286b0",
   "metadata": {},
   "outputs": [],
   "source": [
    "features1"
   ]
  },
  {
   "cell_type": "code",
   "execution_count": null,
   "id": "15146967",
   "metadata": {},
   "outputs": [],
   "source": [
    "X_train = df2[features1].values[train_indices]\n",
    "y_train = df2[target].values[train_indices]\n",
    "\n",
    "X_valid = df2[features1].values[valid_indices]\n",
    "y_valid = df2[target].values[valid_indices]\n",
    "\n",
    "X_test = df2[features1].values[test_indices]\n",
    "y_test = df2[target].values[test_indices]"
   ]
  },
  {
   "cell_type": "code",
   "execution_count": null,
   "id": "c144dcdb",
   "metadata": {},
   "outputs": [],
   "source": [
    "max_epochs =110 if not os.getenv(\"CI\", False) else 2"
   ]
  },
  {
   "cell_type": "code",
   "execution_count": null,
   "id": "13066b15",
   "metadata": {},
   "outputs": [],
   "source": [
    "clf2.fit(\n",
    "    X_train=X_train, y_train=y_train,\n",
    "    eval_set=[(X_train, y_train), (X_valid, y_valid)],\n",
    "    eval_name=['train', 'valid'],\n",
    "    eval_metric=['accuracy'],\n",
    "    max_epochs=max_epochs,\n",
    "    patience=80,\n",
    "    batch_size=4096, virtual_batch_size=128,\n",
    "    num_workers=0,\n",
    "    #augmentations=aug\n",
    ") "
   ]
  },
  {
   "cell_type": "code",
   "execution_count": null,
   "id": "69afbdb4",
   "metadata": {},
   "outputs": [],
   "source": [
    "preds_mapper = { idx : class_name for idx, class_name in enumerate(clf2.classes_)}\n",
    "\n",
    "preds = clf2.predict_proba(X_test)\n",
    "\n",
    "y_pred = np.vectorize(preds_mapper.get)(np.argmax(preds, axis=1))\n",
    "\n",
    "test_acc = accuracy_score(y_pred=y_pred, y_true=y_test)"
   ]
  },
  {
   "cell_type": "code",
   "execution_count": null,
   "id": "b41377b1",
   "metadata": {},
   "outputs": [],
   "source": [
    "test_acc"
   ]
  },
  {
   "cell_type": "code",
   "execution_count": null,
   "id": "b57c2492",
   "metadata": {},
   "outputs": [],
   "source": []
  }
 ],
 "metadata": {
  "kernelspec": {
   "display_name": "Python 3 (ipykernel)",
   "language": "python",
   "name": "python3"
  },
  "language_info": {
   "codemirror_mode": {
    "name": "ipython",
    "version": 3
   },
   "file_extension": ".py",
   "mimetype": "text/x-python",
   "name": "python",
   "nbconvert_exporter": "python",
   "pygments_lexer": "ipython3",
   "version": "3.10.9"
  }
 },
 "nbformat": 4,
 "nbformat_minor": 5
}
